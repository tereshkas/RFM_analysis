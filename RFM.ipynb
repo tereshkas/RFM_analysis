{
 "cells": [
  {
   "cell_type": "code",
   "execution_count": 1,
   "id": "c84ba576",
   "metadata": {},
   "outputs": [],
   "source": [
    "import pandas as pd\n",
    "import numpy as np"
   ]
  },
  {
   "cell_type": "markdown",
   "id": "076728d6",
   "metadata": {},
   "source": [
    "## RFM-анализ\n",
    "## Сегментация пользователей"
   ]
  },
  {
   "cell_type": "code",
   "execution_count": 2,
   "id": "c0637b72",
   "metadata": {},
   "outputs": [],
   "source": [
    "df = pd.read_csv('~/RFM/RFM_ht_data.csv', low_memory=False)"
   ]
  },
  {
   "cell_type": "code",
   "execution_count": 3,
   "id": "503286c9",
   "metadata": {},
   "outputs": [
    {
     "data": {
      "text/plain": [
       "InvoiceNo        object\n",
       "CustomerCode     object\n",
       "InvoiceDate      object\n",
       "Amount          float64\n",
       "dtype: object"
      ]
     },
     "execution_count": 3,
     "metadata": {},
     "output_type": "execute_result"
    }
   ],
   "source": [
    "df.dtypes"
   ]
  },
  {
   "cell_type": "code",
   "execution_count": 4,
   "id": "559bc52e",
   "metadata": {},
   "outputs": [],
   "source": [
    "df['InvoiceDate'] = pd.to_datetime(df['InvoiceDate'])"
   ]
  },
  {
   "cell_type": "code",
   "execution_count": 5,
   "id": "457263f0",
   "metadata": {},
   "outputs": [],
   "source": [
    "df.columns = df.columns.str.lower()"
   ]
  },
  {
   "cell_type": "code",
   "execution_count": 6,
   "id": "cef2968e",
   "metadata": {},
   "outputs": [
    {
     "name": "stderr",
     "output_type": "stream",
     "text": [
      "/var/folders/st/gl4370793qz1yf8d4zkjm7lr0000gp/T/ipykernel_2793/1515196518.py:1: FutureWarning: Treating datetime data as categorical rather than numeric in `.describe` is deprecated and will be removed in a future version of pandas. Specify `datetime_is_numeric=True` to silence this warning and adopt the future behavior now.\n",
      "  df['invoicedate'].describe()\n"
     ]
    },
    {
     "data": {
      "text/plain": [
       "count                  332730\n",
       "unique                     30\n",
       "top       2020-09-30 00:00:00\n",
       "freq                    19781\n",
       "first     2020-09-01 00:00:00\n",
       "last      2020-09-30 00:00:00\n",
       "Name: invoicedate, dtype: object"
      ]
     },
     "execution_count": 6,
     "metadata": {},
     "output_type": "execute_result"
    }
   ],
   "source": [
    "df['invoicedate'].describe()"
   ]
  },
  {
   "cell_type": "code",
   "execution_count": 7,
   "id": "358fac36",
   "metadata": {},
   "outputs": [
    {
     "data": {
      "text/plain": [
       "(332730, 4)"
      ]
     },
     "execution_count": 7,
     "metadata": {},
     "output_type": "execute_result"
    }
   ],
   "source": [
    "df.shape"
   ]
  },
  {
   "cell_type": "code",
   "execution_count": 8,
   "id": "4fedc202",
   "metadata": {},
   "outputs": [
    {
     "data": {
      "text/html": [
       "<div>\n",
       "<style scoped>\n",
       "    .dataframe tbody tr th:only-of-type {\n",
       "        vertical-align: middle;\n",
       "    }\n",
       "\n",
       "    .dataframe tbody tr th {\n",
       "        vertical-align: top;\n",
       "    }\n",
       "\n",
       "    .dataframe thead th {\n",
       "        text-align: right;\n",
       "    }\n",
       "</style>\n",
       "<table border=\"1\" class=\"dataframe\">\n",
       "  <thead>\n",
       "    <tr style=\"text-align: right;\">\n",
       "      <th></th>\n",
       "      <th>invoiceno</th>\n",
       "      <th>customercode</th>\n",
       "      <th>invoicedate</th>\n",
       "      <th>amount</th>\n",
       "    </tr>\n",
       "  </thead>\n",
       "  <tbody>\n",
       "    <tr>\n",
       "      <th>0</th>\n",
       "      <td>C0011810010001</td>\n",
       "      <td>19067290</td>\n",
       "      <td>2020-09-01</td>\n",
       "      <td>1716.00</td>\n",
       "    </tr>\n",
       "    <tr>\n",
       "      <th>1</th>\n",
       "      <td>C0011810010017</td>\n",
       "      <td>13233933</td>\n",
       "      <td>2020-09-01</td>\n",
       "      <td>1489.74</td>\n",
       "    </tr>\n",
       "    <tr>\n",
       "      <th>2</th>\n",
       "      <td>C0011810010020</td>\n",
       "      <td>99057968</td>\n",
       "      <td>2020-09-01</td>\n",
       "      <td>151.47</td>\n",
       "    </tr>\n",
       "    <tr>\n",
       "      <th>3</th>\n",
       "      <td>C0011810010021</td>\n",
       "      <td>80007276</td>\n",
       "      <td>2020-09-01</td>\n",
       "      <td>146.72</td>\n",
       "    </tr>\n",
       "    <tr>\n",
       "      <th>4</th>\n",
       "      <td>C0011810010024</td>\n",
       "      <td>13164076</td>\n",
       "      <td>2020-09-01</td>\n",
       "      <td>104.00</td>\n",
       "    </tr>\n",
       "  </tbody>\n",
       "</table>\n",
       "</div>"
      ],
      "text/plain": [
       "        invoiceno customercode invoicedate   amount\n",
       "0  C0011810010001     19067290  2020-09-01  1716.00\n",
       "1  C0011810010017     13233933  2020-09-01  1489.74\n",
       "2  C0011810010020     99057968  2020-09-01   151.47\n",
       "3  C0011810010021     80007276  2020-09-01   146.72\n",
       "4  C0011810010024     13164076  2020-09-01   104.00"
      ]
     },
     "execution_count": 8,
     "metadata": {},
     "output_type": "execute_result"
    }
   ],
   "source": [
    "df.head()"
   ]
  },
  {
   "cell_type": "code",
   "execution_count": 9,
   "id": "090d7c90",
   "metadata": {},
   "outputs": [],
   "source": [
    "last_date = df['invoicedate'].max()"
   ]
  },
  {
   "cell_type": "markdown",
   "id": "932a8193",
   "metadata": {},
   "source": [
    "1.Какое максимальное кол-во покупок было совершено одним пользователем?  "
   ]
  },
  {
   "cell_type": "code",
   "execution_count": 10,
   "id": "9ad94cea",
   "metadata": {},
   "outputs": [
    {
     "data": {
      "text/html": [
       "<div>\n",
       "<style scoped>\n",
       "    .dataframe tbody tr th:only-of-type {\n",
       "        vertical-align: middle;\n",
       "    }\n",
       "\n",
       "    .dataframe tbody tr th {\n",
       "        vertical-align: top;\n",
       "    }\n",
       "\n",
       "    .dataframe thead th {\n",
       "        text-align: right;\n",
       "    }\n",
       "</style>\n",
       "<table border=\"1\" class=\"dataframe\">\n",
       "  <thead>\n",
       "    <tr style=\"text-align: right;\">\n",
       "      <th></th>\n",
       "      <th>customercode</th>\n",
       "      <th>invoiceno</th>\n",
       "    </tr>\n",
       "  </thead>\n",
       "  <tbody>\n",
       "    <tr>\n",
       "      <th>89388</th>\n",
       "      <td>19057820</td>\n",
       "      <td>204</td>\n",
       "    </tr>\n",
       "    <tr>\n",
       "      <th>44594</th>\n",
       "      <td>13215452</td>\n",
       "      <td>113</td>\n",
       "    </tr>\n",
       "    <tr>\n",
       "      <th>10347</th>\n",
       "      <td>13032521</td>\n",
       "      <td>106</td>\n",
       "    </tr>\n",
       "    <tr>\n",
       "      <th>97077</th>\n",
       "      <td>19080880</td>\n",
       "      <td>99</td>\n",
       "    </tr>\n",
       "    <tr>\n",
       "      <th>119951</th>\n",
       "      <td>99003061</td>\n",
       "      <td>90</td>\n",
       "    </tr>\n",
       "    <tr>\n",
       "      <th>...</th>\n",
       "      <td>...</td>\n",
       "      <td>...</td>\n",
       "    </tr>\n",
       "    <tr>\n",
       "      <th>58910</th>\n",
       "      <td>13272861</td>\n",
       "      <td>1</td>\n",
       "    </tr>\n",
       "    <tr>\n",
       "      <th>58911</th>\n",
       "      <td>13272871</td>\n",
       "      <td>1</td>\n",
       "    </tr>\n",
       "    <tr>\n",
       "      <th>58913</th>\n",
       "      <td>13272875</td>\n",
       "      <td>1</td>\n",
       "    </tr>\n",
       "    <tr>\n",
       "      <th>58914</th>\n",
       "      <td>13272878</td>\n",
       "      <td>1</td>\n",
       "    </tr>\n",
       "    <tr>\n",
       "      <th>61866</th>\n",
       "      <td>14000778</td>\n",
       "      <td>1</td>\n",
       "    </tr>\n",
       "  </tbody>\n",
       "</table>\n",
       "<p>123733 rows × 2 columns</p>\n",
       "</div>"
      ],
      "text/plain": [
       "       customercode  invoiceno\n",
       "89388      19057820        204\n",
       "44594      13215452        113\n",
       "10347      13032521        106\n",
       "97077      19080880         99\n",
       "119951     99003061         90\n",
       "...             ...        ...\n",
       "58910      13272861          1\n",
       "58911      13272871          1\n",
       "58913      13272875          1\n",
       "58914      13272878          1\n",
       "61866      14000778          1\n",
       "\n",
       "[123733 rows x 2 columns]"
      ]
     },
     "execution_count": 10,
     "metadata": {},
     "output_type": "execute_result"
    }
   ],
   "source": [
    "df.groupby('customercode', as_index=False)\\\n",
    "  .agg({'invoiceno':'nunique'}).sort_values('invoiceno', ascending=False)"
   ]
  },
  {
   "cell_type": "code",
   "execution_count": 11,
   "id": "680d3845",
   "metadata": {},
   "outputs": [],
   "source": [
    "\n",
    "rfmTable = df.groupby('customercode').agg({'invoicedate': lambda x: (last_date - x.max()).days, # Recency #Количество дней с последнего заказа\n",
    "                                        'invoiceno': lambda x: len(x),      # Frequency #Количество заказов\n",
    "                                        'amount': lambda x: x.sum()}) # Monetary Value #Общая сумма по всем заказам\n",
    "\n",
    "rfmTable['invoicedate'] = rfmTable['invoicedate'].astype(int)\n",
    "rfmTable.rename(columns={'invoicedate': 'recency', \n",
    "                         'invoiceno': 'frequency', \n",
    "                         'amount': 'monetary_value'}, inplace=True)"
   ]
  },
  {
   "cell_type": "code",
   "execution_count": 12,
   "id": "8a8b435c",
   "metadata": {},
   "outputs": [
    {
     "data": {
      "text/html": [
       "<div>\n",
       "<style scoped>\n",
       "    .dataframe tbody tr th:only-of-type {\n",
       "        vertical-align: middle;\n",
       "    }\n",
       "\n",
       "    .dataframe tbody tr th {\n",
       "        vertical-align: top;\n",
       "    }\n",
       "\n",
       "    .dataframe thead th {\n",
       "        text-align: right;\n",
       "    }\n",
       "</style>\n",
       "<table border=\"1\" class=\"dataframe\">\n",
       "  <thead>\n",
       "    <tr style=\"text-align: right;\">\n",
       "      <th></th>\n",
       "      <th>recency</th>\n",
       "      <th>frequency</th>\n",
       "      <th>monetary_value</th>\n",
       "    </tr>\n",
       "    <tr>\n",
       "      <th>customercode</th>\n",
       "      <th></th>\n",
       "      <th></th>\n",
       "      <th></th>\n",
       "    </tr>\n",
       "  </thead>\n",
       "  <tbody>\n",
       "    <tr>\n",
       "      <th>02213019</th>\n",
       "      <td>19</td>\n",
       "      <td>1</td>\n",
       "      <td>1609.20</td>\n",
       "    </tr>\n",
       "    <tr>\n",
       "      <th>02213042</th>\n",
       "      <td>22</td>\n",
       "      <td>3</td>\n",
       "      <td>9685.48</td>\n",
       "    </tr>\n",
       "    <tr>\n",
       "      <th>02213071</th>\n",
       "      <td>29</td>\n",
       "      <td>1</td>\n",
       "      <td>415.00</td>\n",
       "    </tr>\n",
       "    <tr>\n",
       "      <th>02213088</th>\n",
       "      <td>23</td>\n",
       "      <td>1</td>\n",
       "      <td>305.00</td>\n",
       "    </tr>\n",
       "    <tr>\n",
       "      <th>02213092</th>\n",
       "      <td>25</td>\n",
       "      <td>1</td>\n",
       "      <td>1412.88</td>\n",
       "    </tr>\n",
       "  </tbody>\n",
       "</table>\n",
       "</div>"
      ],
      "text/plain": [
       "              recency  frequency  monetary_value\n",
       "customercode                                    \n",
       "02213019           19          1         1609.20\n",
       "02213042           22          3         9685.48\n",
       "02213071           29          1          415.00\n",
       "02213088           23          1          305.00\n",
       "02213092           25          1         1412.88"
      ]
     },
     "execution_count": 12,
     "metadata": {},
     "output_type": "execute_result"
    }
   ],
   "source": [
    "rfmTable.head()"
   ]
  },
  {
   "cell_type": "code",
   "execution_count": 13,
   "id": "e9e0fe05",
   "metadata": {},
   "outputs": [],
   "source": [
    "quantiles = rfmTable.quantile(q=[0.25,0.5,0.75])"
   ]
  },
  {
   "cell_type": "code",
   "execution_count": 14,
   "id": "ab6739fe",
   "metadata": {},
   "outputs": [
    {
     "data": {
      "text/html": [
       "<div>\n",
       "<style scoped>\n",
       "    .dataframe tbody tr th:only-of-type {\n",
       "        vertical-align: middle;\n",
       "    }\n",
       "\n",
       "    .dataframe tbody tr th {\n",
       "        vertical-align: top;\n",
       "    }\n",
       "\n",
       "    .dataframe thead th {\n",
       "        text-align: right;\n",
       "    }\n",
       "</style>\n",
       "<table border=\"1\" class=\"dataframe\">\n",
       "  <thead>\n",
       "    <tr style=\"text-align: right;\">\n",
       "      <th></th>\n",
       "      <th>recency</th>\n",
       "      <th>frequency</th>\n",
       "      <th>monetary_value</th>\n",
       "    </tr>\n",
       "  </thead>\n",
       "  <tbody>\n",
       "    <tr>\n",
       "      <th>0.25</th>\n",
       "      <td>2.0</td>\n",
       "      <td>1.0</td>\n",
       "      <td>765.00</td>\n",
       "    </tr>\n",
       "    <tr>\n",
       "      <th>0.50</th>\n",
       "      <td>8.0</td>\n",
       "      <td>2.0</td>\n",
       "      <td>1834.48</td>\n",
       "    </tr>\n",
       "    <tr>\n",
       "      <th>0.75</th>\n",
       "      <td>16.0</td>\n",
       "      <td>3.0</td>\n",
       "      <td>4008.84</td>\n",
       "    </tr>\n",
       "  </tbody>\n",
       "</table>\n",
       "</div>"
      ],
      "text/plain": [
       "      recency  frequency  monetary_value\n",
       "0.25      2.0        1.0          765.00\n",
       "0.50      8.0        2.0         1834.48\n",
       "0.75     16.0        3.0         4008.84"
      ]
     },
     "execution_count": 14,
     "metadata": {},
     "output_type": "execute_result"
    }
   ],
   "source": [
    "quantiles"
   ]
  },
  {
   "cell_type": "code",
   "execution_count": 15,
   "id": "39426f78",
   "metadata": {},
   "outputs": [],
   "source": [
    "rfmSegmentation = rfmTable"
   ]
  },
  {
   "cell_type": "code",
   "execution_count": 16,
   "id": "ed604f16",
   "metadata": {},
   "outputs": [],
   "source": [
    "\n",
    "def RClass(value,parameter_name,quantiles_table):\n",
    "    if value <= quantiles_table[parameter_name][0.25]:\n",
    "        return 1\n",
    "    elif value <= quantiles_table[parameter_name][0.50]:\n",
    "        return 2\n",
    "    elif value <= quantiles_table[parameter_name][0.75]: \n",
    "        return 3\n",
    "    else:\n",
    "        return 4\n",
    "\n",
    "\n",
    "def FMClass(value, parameter_name,quantiles_table):\n",
    "    if value <= quantiles_table[parameter_name][0.25]:\n",
    "        return 4\n",
    "    elif value <= quantiles_table[parameter_name][0.50]:\n",
    "        return 3\n",
    "    elif value <= quantiles_table[parameter_name][0.75]: \n",
    "        return 2\n",
    "    else:\n",
    "        return 1\n"
   ]
  },
  {
   "cell_type": "code",
   "execution_count": 17,
   "id": "45dbd489",
   "metadata": {},
   "outputs": [],
   "source": [
    "\n",
    "rfmSegmentation['R_Quartile'] = rfmSegmentation['recency'].apply(RClass, args=('recency',quantiles))\n",
    "\n",
    "rfmSegmentation['F_Quartile'] = rfmSegmentation['frequency'].apply(FMClass, args=('frequency',quantiles))\n",
    "\n",
    "rfmSegmentation['M_Quartile'] = rfmSegmentation['monetary_value'].apply(FMClass, args=('monetary_value',quantiles))\n",
    "\n",
    "rfmSegmentation['RFMClass'] = rfmSegmentation.R_Quartile.map(str)    \\\n",
    "+ rfmSegmentation.F_Quartile.map(str)                       \\\n",
    "+ rfmSegmentation.M_Quartile.map(str)"
   ]
  },
  {
   "cell_type": "code",
   "execution_count": 18,
   "id": "2c73c8e6",
   "metadata": {},
   "outputs": [
    {
     "data": {
      "text/html": [
       "<div>\n",
       "<style scoped>\n",
       "    .dataframe tbody tr th:only-of-type {\n",
       "        vertical-align: middle;\n",
       "    }\n",
       "\n",
       "    .dataframe tbody tr th {\n",
       "        vertical-align: top;\n",
       "    }\n",
       "\n",
       "    .dataframe thead th {\n",
       "        text-align: right;\n",
       "    }\n",
       "</style>\n",
       "<table border=\"1\" class=\"dataframe\">\n",
       "  <thead>\n",
       "    <tr style=\"text-align: right;\">\n",
       "      <th></th>\n",
       "      <th>recency</th>\n",
       "      <th>frequency</th>\n",
       "      <th>monetary_value</th>\n",
       "      <th>R_Quartile</th>\n",
       "      <th>F_Quartile</th>\n",
       "      <th>M_Quartile</th>\n",
       "      <th>RFMClass</th>\n",
       "    </tr>\n",
       "    <tr>\n",
       "      <th>customercode</th>\n",
       "      <th></th>\n",
       "      <th></th>\n",
       "      <th></th>\n",
       "      <th></th>\n",
       "      <th></th>\n",
       "      <th></th>\n",
       "      <th></th>\n",
       "    </tr>\n",
       "  </thead>\n",
       "  <tbody>\n",
       "    <tr>\n",
       "      <th>02213019</th>\n",
       "      <td>19</td>\n",
       "      <td>1</td>\n",
       "      <td>1609.20</td>\n",
       "      <td>4</td>\n",
       "      <td>4</td>\n",
       "      <td>3</td>\n",
       "      <td>443</td>\n",
       "    </tr>\n",
       "    <tr>\n",
       "      <th>02213042</th>\n",
       "      <td>22</td>\n",
       "      <td>3</td>\n",
       "      <td>9685.48</td>\n",
       "      <td>4</td>\n",
       "      <td>2</td>\n",
       "      <td>1</td>\n",
       "      <td>421</td>\n",
       "    </tr>\n",
       "    <tr>\n",
       "      <th>02213071</th>\n",
       "      <td>29</td>\n",
       "      <td>1</td>\n",
       "      <td>415.00</td>\n",
       "      <td>4</td>\n",
       "      <td>4</td>\n",
       "      <td>4</td>\n",
       "      <td>444</td>\n",
       "    </tr>\n",
       "    <tr>\n",
       "      <th>02213088</th>\n",
       "      <td>23</td>\n",
       "      <td>1</td>\n",
       "      <td>305.00</td>\n",
       "      <td>4</td>\n",
       "      <td>4</td>\n",
       "      <td>4</td>\n",
       "      <td>444</td>\n",
       "    </tr>\n",
       "    <tr>\n",
       "      <th>02213092</th>\n",
       "      <td>25</td>\n",
       "      <td>1</td>\n",
       "      <td>1412.88</td>\n",
       "      <td>4</td>\n",
       "      <td>4</td>\n",
       "      <td>3</td>\n",
       "      <td>443</td>\n",
       "    </tr>\n",
       "  </tbody>\n",
       "</table>\n",
       "</div>"
      ],
      "text/plain": [
       "              recency  frequency  monetary_value  R_Quartile  F_Quartile  \\\n",
       "customercode                                                               \n",
       "02213019           19          1         1609.20           4           4   \n",
       "02213042           22          3         9685.48           4           2   \n",
       "02213071           29          1          415.00           4           4   \n",
       "02213088           23          1          305.00           4           4   \n",
       "02213092           25          1         1412.88           4           4   \n",
       "\n",
       "              M_Quartile RFMClass  \n",
       "customercode                       \n",
       "02213019               3      443  \n",
       "02213042               1      421  \n",
       "02213071               4      444  \n",
       "02213088               4      444  \n",
       "02213092               3      443  "
      ]
     },
     "execution_count": 18,
     "metadata": {},
     "output_type": "execute_result"
    }
   ],
   "source": [
    "rfmSegmentation.head()"
   ]
  },
  {
   "cell_type": "markdown",
   "id": "d28c1524",
   "metadata": {},
   "source": [
    "2.Какая верхняя граница у суммы покупок у пользователей с классом 4 в подсегменте М? (Другими словами: пользователи, у которых сумма покупок от 0 до Х попадают в 4 класс в подсегменте М)  "
   ]
  },
  {
   "cell_type": "code",
   "execution_count": 19,
   "id": "75deb958",
   "metadata": {},
   "outputs": [
    {
     "data": {
      "text/plain": [
       "765.0"
      ]
     },
     "execution_count": 19,
     "metadata": {},
     "output_type": "execute_result"
    }
   ],
   "source": [
    "rfmSegmentation.query(\"M_Quartile==4\").monetary_value.max()"
   ]
  },
  {
   "cell_type": "markdown",
   "id": "319e3612",
   "metadata": {},
   "source": [
    "3.Какая нижняя граница у количества покупок у пользователей с классом 1 в подсегменте F?  "
   ]
  },
  {
   "cell_type": "code",
   "execution_count": 20,
   "id": "8279e045",
   "metadata": {},
   "outputs": [
    {
     "data": {
      "text/plain": [
       "4"
      ]
     },
     "execution_count": 20,
     "metadata": {},
     "output_type": "execute_result"
    }
   ],
   "source": [
    "rfmSegmentation.query(\"F_Quartile==1\").frequency.min()"
   ]
  },
  {
   "cell_type": "markdown",
   "id": "de20d41e",
   "metadata": {},
   "source": [
    "4.Какое максимальное количество дней может пройти с момента последней покупки для того, чтобы пользователь попал в класс 2 в подсегменте R?"
   ]
  },
  {
   "cell_type": "code",
   "execution_count": 21,
   "id": "1f4dffda",
   "metadata": {},
   "outputs": [
    {
     "data": {
      "text/plain": [
       "8"
      ]
     },
     "execution_count": 21,
     "metadata": {},
     "output_type": "execute_result"
    }
   ],
   "source": [
    "rfmSegmentation.query(\"R_Quartile==2\").recency.max()"
   ]
  },
  {
   "cell_type": "markdown",
   "id": "8d63eb4b",
   "metadata": {},
   "source": [
    "5.Сколько пользователей попало в сегмент 111? "
   ]
  },
  {
   "cell_type": "code",
   "execution_count": 22,
   "id": "4ddb2e77",
   "metadata": {},
   "outputs": [
    {
     "data": {
      "text/plain": [
       "9705"
      ]
     },
     "execution_count": 22,
     "metadata": {},
     "output_type": "execute_result"
    }
   ],
   "source": [
    "rfmSegmentation.query(\"RFMClass=='111'\").shape[0]"
   ]
  },
  {
   "cell_type": "markdown",
   "id": "5f481833",
   "metadata": {},
   "source": [
    "6.Сколько пользователей попало в сегмент 311?"
   ]
  },
  {
   "cell_type": "code",
   "execution_count": 23,
   "id": "af5a70da",
   "metadata": {},
   "outputs": [
    {
     "data": {
      "text/plain": [
       "1609"
      ]
     },
     "execution_count": 23,
     "metadata": {},
     "output_type": "execute_result"
    }
   ],
   "source": [
    "rfmSegmentation.query(\"RFMClass=='311'\").shape[0]"
   ]
  },
  {
   "cell_type": "markdown",
   "id": "278a58f3",
   "metadata": {},
   "source": [
    "7.В каком RFM-сегменте самое большое кол-во пользователей? "
   ]
  },
  {
   "cell_type": "code",
   "execution_count": 24,
   "id": "f88f1009",
   "metadata": {},
   "outputs": [
    {
     "data": {
      "text/plain": [
       "recency           444\n",
       "frequency         444\n",
       "monetary_value    444\n",
       "R_Quartile        444\n",
       "F_Quartile        444\n",
       "M_Quartile        444\n",
       "dtype: object"
      ]
     },
     "execution_count": 24,
     "metadata": {},
     "output_type": "execute_result"
    }
   ],
   "source": [
    "rfmSegmentation.groupby('RFMClass').count().idxmax()"
   ]
  },
  {
   "cell_type": "markdown",
   "id": "9d72eac9",
   "metadata": {},
   "source": [
    "8.В каком RFM-сегменте самое маленькое кол-во пользователей? "
   ]
  },
  {
   "cell_type": "code",
   "execution_count": 25,
   "id": "3e36196f",
   "metadata": {},
   "outputs": [
    {
     "data": {
      "text/plain": [
       "recency           414\n",
       "frequency         414\n",
       "monetary_value    414\n",
       "R_Quartile        414\n",
       "F_Quartile        414\n",
       "M_Quartile        414\n",
       "dtype: object"
      ]
     },
     "execution_count": 25,
     "metadata": {},
     "output_type": "execute_result"
    }
   ],
   "source": [
    "rfmSegmentation.groupby('RFMClass').count().idxmin()"
   ]
  },
  {
   "cell_type": "markdown",
   "id": "be2aafcb",
   "metadata": {},
   "source": [
    "9.Какое количество пользователей попало в самый малочисленный сегмент?"
   ]
  },
  {
   "cell_type": "code",
   "execution_count": 26,
   "id": "2cb80ca5",
   "metadata": {},
   "outputs": [
    {
     "data": {
      "text/plain": [
       "2"
      ]
     },
     "execution_count": 26,
     "metadata": {},
     "output_type": "execute_result"
    }
   ],
   "source": [
    "rfmSegmentation.query('RFMClass==\"414\"').shape[0]"
   ]
  }
 ],
 "metadata": {
  "kernelspec": {
   "display_name": "Python 3 (ipykernel)",
   "language": "python",
   "name": "python3"
  },
  "language_info": {
   "codemirror_mode": {
    "name": "ipython",
    "version": 3
   },
   "file_extension": ".py",
   "mimetype": "text/x-python",
   "name": "python",
   "nbconvert_exporter": "python",
   "pygments_lexer": "ipython3",
   "version": "3.9.13"
  }
 },
 "nbformat": 4,
 "nbformat_minor": 5
}
